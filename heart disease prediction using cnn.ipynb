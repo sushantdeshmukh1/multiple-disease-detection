{
 "cells": [
  {
   "cell_type": "code",
   "execution_count": 1,
   "id": "a2b29dad",
   "metadata": {},
   "outputs": [
    {
     "name": "stdout",
     "output_type": "stream",
     "text": [
      "<class 'pandas.core.frame.DataFrame'>\n",
      "RangeIndex: 303 entries, 0 to 302\n",
      "Data columns (total 14 columns):\n",
      " #   Column    Non-Null Count  Dtype  \n",
      "---  ------    --------------  -----  \n",
      " 0   age       303 non-null    int64  \n",
      " 1   sex       303 non-null    int64  \n",
      " 2   cp        303 non-null    int64  \n",
      " 3   trestbps  303 non-null    int64  \n",
      " 4   chol      303 non-null    int64  \n",
      " 5   fbs       303 non-null    int64  \n",
      " 6   restecg   303 non-null    int64  \n",
      " 7   thalach   303 non-null    int64  \n",
      " 8   exang     303 non-null    int64  \n",
      " 9   oldpeak   303 non-null    float64\n",
      " 10  slope     303 non-null    int64  \n",
      " 11  ca        303 non-null    int64  \n",
      " 12  thal      303 non-null    int64  \n",
      " 13  target    303 non-null    int64  \n",
      "dtypes: float64(1), int64(13)\n",
      "memory usage: 33.3 KB\n"
     ]
    },
    {
     "data": {
      "text/plain": [
       "<bound method Series.unique of 0      1\n",
       "1      2\n",
       "2      2\n",
       "3      2\n",
       "4      2\n",
       "      ..\n",
       "298    3\n",
       "299    3\n",
       "300    3\n",
       "301    3\n",
       "302    2\n",
       "Name: thal, Length: 303, dtype: int64>"
      ]
     },
     "execution_count": 1,
     "metadata": {},
     "output_type": "execute_result"
    }
   ],
   "source": [
    "import numpy as np\n",
    "import pandas as pd\n",
    "\n",
    "#Visualization libraries\n",
    "import seaborn as sns\n",
    "import matplotlib.pyplot as plt\n",
    "%matplotlib inline\n",
    "sns.set()\n",
    "\n",
    "import warnings\n",
    "warnings.filterwarnings('ignore')\n",
    "                        \n",
    "data=pd.read_csv(\"heart.csv\")\n",
    "data.head() #to display the first five rows\n",
    "data.info()\n",
    "data.describe().transpose()\n",
    "data['thal'].unique"
   ]
  },
  {
   "cell_type": "code",
   "execution_count": 2,
   "id": "18606ab9",
   "metadata": {},
   "outputs": [
    {
     "data": {
      "image/png": "[encoded data removed]",
      "text/plain": [
       "<Figure size 432x288 with 1 Axes>"
      ]
     },
     "metadata": {},
     "output_type": "display_data"
    }
   ],
   "source": [
    "sns.countplot(x='thal',data=data)\n",
    "data.head()\n",
    "#sex,restecg,exang,slope,ca,thal\n",
    "data.columns\n",
    "#to check to age groups in our data set\n",
    "sns.distplot(data['age'],kde=False,bins=20)\n",
    "data.isnull().sum()  #no missing data\n",
    "data.columns\n",
    "x=data.drop('target',axis=1).values  #all columns except target\n",
    "y=data['target'].values \n",
    "from sklearn.model_selection import train_test_split\n",
    "x_train,x_test,y_train,y_test=train_test_split(x,y,test_size=.20,random_state=5) #80% is training data"
   ]
  },
  {
   "cell_type": "code",
   "execution_count": 3,
   "id": "1fd2a441",
   "metadata": {},
   "outputs": [],
   "source": [
    "from sklearn.preprocessing import MinMaxScaler\n",
    "scaler = MinMaxScaler() #create an instance of the function\n",
    "x_train_scaled = scaler.fit_transform(x_train) #fit and tranform training data\n",
    "x_train = pd.DataFrame(x_train_scaled)\n",
    "x_test_scaled = scaler.transform(x_test) #only tranform test data\n",
    "x_test = pd.DataFrame(x_test_scaled)"
   ]
  },
  {
   "cell_type": "code",
   "execution_count": 4,
   "id": "ded3c357",
   "metadata": {},
   "outputs": [
    {
     "name": "stdout",
     "output_type": "stream",
     "text": [
      "INFO:tensorflow:Enabling eager execution\n",
      "INFO:tensorflow:Enabling v2 tensorshape\n",
      "INFO:tensorflow:Enabling resource variables\n",
      "INFO:tensorflow:Enabling tensor equality\n",
      "INFO:tensorflow:Enabling control flow v2\n"
     ]
    }
   ],
   "source": [
    "from keras.models import Sequential\n",
    "from keras.layers import Dense, Dropout\n",
    "model=Sequential()\n",
    "x_train.shape #13 features\n",
    "from tensorflow.keras.callbacks import EarlyStopping"
   ]
  },
  {
   "cell_type": "code",
   "execution_count": 5,
   "id": "a254fbd8",
   "metadata": {},
   "outputs": [],
   "source": [
    "x_train.shape\n",
    "# taking 13 neurons as we have 13 features\n",
    "model.add(Dense(128,activation='relu',input_dim=13))\n",
    "model.add(Dropout(0.25))\n",
    "\n",
    "model.add(Dense(64,activation='relu'))\n",
    "model.add(Dropout(0.25))\n",
    "\n",
    "model.add(Dense(32,activation='relu'))\n",
    "model.add(Dropout(0.25))\n",
    "\n",
    "model.add(Dense(16,activation='relu'))\n",
    "model.add(Dropout(0.25))\n",
    "\n",
    "model.add(Dense(8,activation='relu'))\n",
    "model.add(Dropout(0.25))\n",
    "\n",
    "\n",
    "\n",
    "model.add(Dense(1,activation='sigmoid')) #output is binary values so using sigmoid function\n",
    "model.compile(optimizer='adam',loss='binary_crossentropy',metrics=['accuracy']) #use binary_crossentropy as output is binary values\n"
   ]
  },
  {
   "cell_type": "code",
   "execution_count": 6,
   "id": "191415af",
   "metadata": {},
   "outputs": [
    {
     "name": "stdout",
     "output_type": "stream",
     "text": [
      "Epoch 1/50\n",
      "8/8 [==============================] - 21s 166ms/step - loss: 0.6958 - accuracy: 0.4983 - val_loss: 0.6879 - val_accuracy: 0.6393\n",
      "Epoch 2/50\n",
      "8/8 [==============================] - 0s 7ms/step - loss: 0.6867 - accuracy: 0.5473 - val_loss: 0.6776 - val_accuracy: 0.7869\n",
      "Epoch 3/50\n",
      "8/8 [==============================] - 0s 6ms/step - loss: 0.6813 - accuracy: 0.5580 - val_loss: 0.6582 - val_accuracy: 0.6557\n",
      "Epoch 4/50\n",
      "8/8 [==============================] - 0s 6ms/step - loss: 0.6703 - accuracy: 0.6004 - val_loss: 0.6405 - val_accuracy: 0.6393\n",
      "Epoch 5/50\n",
      "8/8 [==============================] - 0s 7ms/step - loss: 0.6657 - accuracy: 0.6005 - val_loss: 0.6193 - val_accuracy: 0.7377\n",
      "Epoch 6/50\n",
      "8/8 [==============================] - 0s 8ms/step - loss: 0.6289 - accuracy: 0.6599 - val_loss: 0.5868 - val_accuracy: 0.7869\n",
      "Epoch 7/50\n",
      "8/8 [==============================] - 0s 6ms/step - loss: 0.6121 - accuracy: 0.7165 - val_loss: 0.5510 - val_accuracy: 0.8033\n",
      "Epoch 8/50\n",
      "8/8 [==============================] - 0s 7ms/step - loss: 0.5775 - accuracy: 0.7370 - val_loss: 0.5115 - val_accuracy: 0.8689\n",
      "Epoch 9/50\n",
      "8/8 [==============================] - 0s 7ms/step - loss: 0.5937 - accuracy: 0.7188 - val_loss: 0.4768 - val_accuracy: 0.8689\n",
      "Epoch 10/50\n",
      "8/8 [==============================] - 0s 7ms/step - loss: 0.5377 - accuracy: 0.7314 - val_loss: 0.4379 - val_accuracy: 0.8689\n",
      "Epoch 11/50\n",
      "8/8 [==============================] - 0s 6ms/step - loss: 0.5815 - accuracy: 0.7251 - val_loss: 0.4221 - val_accuracy: 0.8852\n",
      "Epoch 12/50\n",
      "8/8 [==============================] - 0s 7ms/step - loss: 0.5640 - accuracy: 0.7655 - val_loss: 0.4101 - val_accuracy: 0.8852\n",
      "Epoch 13/50\n",
      "8/8 [==============================] - 0s 7ms/step - loss: 0.5091 - accuracy: 0.7701 - val_loss: 0.3889 - val_accuracy: 0.8525\n",
      "Epoch 14/50\n",
      "8/8 [==============================] - 0s 6ms/step - loss: 0.4461 - accuracy: 0.8015 - val_loss: 0.3650 - val_accuracy: 0.8689\n",
      "Epoch 15/50\n",
      "8/8 [==============================] - 0s 6ms/step - loss: 0.5102 - accuracy: 0.8040 - val_loss: 0.3626 - val_accuracy: 0.8689\n",
      "Epoch 16/50\n",
      "8/8 [==============================] - 0s 6ms/step - loss: 0.4942 - accuracy: 0.7736 - val_loss: 0.3556 - val_accuracy: 0.8689\n",
      "Epoch 17/50\n",
      "8/8 [==============================] - 0s 7ms/step - loss: 0.4329 - accuracy: 0.8019 - val_loss: 0.3436 - val_accuracy: 0.8689\n",
      "Epoch 18/50\n",
      "8/8 [==============================] - 0s 7ms/step - loss: 0.4690 - accuracy: 0.8132 - val_loss: 0.3393 - val_accuracy: 0.8852\n",
      "Epoch 19/50\n",
      "8/8 [==============================] - 0s 7ms/step - loss: 0.5076 - accuracy: 0.7667 - val_loss: 0.3466 - val_accuracy: 0.8689\n",
      "Epoch 20/50\n",
      "8/8 [==============================] - 0s 6ms/step - loss: 0.4415 - accuracy: 0.7893 - val_loss: 0.3491 - val_accuracy: 0.8689\n",
      "Epoch 21/50\n",
      "8/8 [==============================] - 0s 6ms/step - loss: 0.4765 - accuracy: 0.7738 - val_loss: 0.3469 - val_accuracy: 0.8689\n",
      "Epoch 22/50\n",
      "8/8 [==============================] - 0s 7ms/step - loss: 0.4254 - accuracy: 0.8175 - val_loss: 0.3318 - val_accuracy: 0.8852\n",
      "Epoch 23/50\n",
      "8/8 [==============================] - 0s 7ms/step - loss: 0.4791 - accuracy: 0.8131 - val_loss: 0.3267 - val_accuracy: 0.8852\n",
      "Epoch 24/50\n",
      "8/8 [==============================] - 0s 7ms/step - loss: 0.4422 - accuracy: 0.8172 - val_loss: 0.3358 - val_accuracy: 0.8689\n",
      "Epoch 25/50\n",
      "8/8 [==============================] - 0s 7ms/step - loss: 0.4538 - accuracy: 0.8288 - val_loss: 0.3205 - val_accuracy: 0.8852\n",
      "Epoch 26/50\n",
      "8/8 [==============================] - 0s 6ms/step - loss: 0.4197 - accuracy: 0.8448 - val_loss: 0.3194 - val_accuracy: 0.8852\n",
      "Epoch 27/50\n",
      "8/8 [==============================] - 0s 6ms/step - loss: 0.3513 - accuracy: 0.8541 - val_loss: 0.3142 - val_accuracy: 0.8852\n",
      "Epoch 28/50\n",
      "8/8 [==============================] - 0s 7ms/step - loss: 0.3866 - accuracy: 0.8539 - val_loss: 0.3287 - val_accuracy: 0.8525\n",
      "Epoch 29/50\n",
      "8/8 [==============================] - 0s 6ms/step - loss: 0.3664 - accuracy: 0.8587 - val_loss: 0.3161 - val_accuracy: 0.8689\n",
      "Epoch 30/50\n",
      "8/8 [==============================] - 0s 6ms/step - loss: 0.4027 - accuracy: 0.8434 - val_loss: 0.3205 - val_accuracy: 0.8852\n",
      "Epoch 31/50\n",
      "8/8 [==============================] - 0s 7ms/step - loss: 0.3511 - accuracy: 0.8465 - val_loss: 0.3354 - val_accuracy: 0.8525\n",
      "Epoch 32/50\n",
      "8/8 [==============================] - 0s 7ms/step - loss: 0.3950 - accuracy: 0.8627 - val_loss: 0.3233 - val_accuracy: 0.8852\n",
      "Epoch 33/50\n",
      "8/8 [==============================] - 0s 7ms/step - loss: 0.3366 - accuracy: 0.8505 - val_loss: 0.3232 - val_accuracy: 0.8852\n",
      "Epoch 34/50\n",
      "8/8 [==============================] - 0s 6ms/step - loss: 0.3432 - accuracy: 0.8301 - val_loss: 0.3262 - val_accuracy: 0.9016\n",
      "Epoch 35/50\n",
      "8/8 [==============================] - 0s 7ms/step - loss: 0.4147 - accuracy: 0.8578 - val_loss: 0.3195 - val_accuracy: 0.8852\n",
      "Epoch 36/50\n",
      "8/8 [==============================] - 0s 7ms/step - loss: 0.3150 - accuracy: 0.8983 - val_loss: 0.3200 - val_accuracy: 0.8852\n",
      "Epoch 37/50\n",
      "8/8 [==============================] - 0s 7ms/step - loss: 0.3295 - accuracy: 0.8759 - val_loss: 0.3195 - val_accuracy: 0.8852\n",
      "Epoch 38/50\n",
      "8/8 [==============================] - 0s 6ms/step - loss: 0.3951 - accuracy: 0.8591 - val_loss: 0.3258 - val_accuracy: 0.8689\n",
      "Epoch 39/50\n",
      "8/8 [==============================] - 0s 6ms/step - loss: 0.3394 - accuracy: 0.8734 - val_loss: 0.3218 - val_accuracy: 0.9016\n",
      "Epoch 40/50\n",
      "8/8 [==============================] - 0s 7ms/step - loss: 0.3257 - accuracy: 0.8648 - val_loss: 0.3196 - val_accuracy: 0.8852\n",
      "Epoch 41/50\n",
      "8/8 [==============================] - ETA: 0s - loss: 0.4201 - accuracy: 0.87 - 0s 7ms/step - loss: 0.4257 - accuracy: 0.8480 - val_loss: 0.3224 - val_accuracy: 0.9016\n",
      "Epoch 42/50\n",
      "8/8 [==============================] - 0s 7ms/step - loss: 0.4013 - accuracy: 0.8621 - val_loss: 0.3316 - val_accuracy: 0.8689\n",
      "Epoch 43/50\n",
      "8/8 [==============================] - 0s 6ms/step - loss: 0.3536 - accuracy: 0.8503 - val_loss: 0.3368 - val_accuracy: 0.8525\n",
      "Epoch 44/50\n",
      "8/8 [==============================] - 0s 7ms/step - loss: 0.3094 - accuracy: 0.8900 - val_loss: 0.3360 - val_accuracy: 0.9016\n",
      "Epoch 45/50\n",
      "8/8 [==============================] - 0s 6ms/step - loss: 0.3471 - accuracy: 0.8547 - val_loss: 0.3388 - val_accuracy: 0.8852\n",
      "Epoch 46/50\n",
      "8/8 [==============================] - 0s 7ms/step - loss: 0.3468 - accuracy: 0.8640 - val_loss: 0.3539 - val_accuracy: 0.8525\n",
      "Epoch 47/50\n",
      "8/8 [==============================] - 0s 6ms/step - loss: 0.2968 - accuracy: 0.9019 - val_loss: 0.3513 - val_accuracy: 0.8689\n",
      "Epoch 48/50\n",
      "8/8 [==============================] - 0s 7ms/step - loss: 0.3917 - accuracy: 0.8433 - val_loss: 0.3329 - val_accuracy: 0.8852\n",
      "Epoch 49/50\n",
      "8/8 [==============================] - 0s 6ms/step - loss: 0.3819 - accuracy: 0.8356 - val_loss: 0.3339 - val_accuracy: 0.9016\n",
      "Epoch 50/50\n",
      "8/8 [==============================] - 0s 7ms/step - loss: 0.3421 - accuracy: 0.8642 - val_loss: 0.3420 - val_accuracy: 0.8852\n"
     ]
    },
    {
     "data": {
      "text/plain": [
       "<keras.callbacks.History at 0x1b80ca79430>"
      ]
     },
     "execution_count": 6,
     "metadata": {},
     "output_type": "execute_result"
    }
   ],
   "source": [
    "#model.fit(x=x_train,y=y_train,validation_data=(x_test,y_test),batch_size=120,epochs=250)\n",
    "early_stop=EarlyStopping(monitor='val_loss',mode='min',verbose=1,patience=30)\n",
    "model.fit(x=x_train,y=y_train,epochs=50,validation_data=(x_test,y_test),callbacks=[early_stop])\n",
    "#validation data is used to check for overfitting"
   ]
  },
  {
   "cell_type": "code",
   "execution_count": 7,
   "id": "24e23cff",
   "metadata": {},
   "outputs": [],
   "source": [
    "#losses=pd.DataFrame(model.history.history)\n",
    "##losses #we get loss and validation loss\n",
    "#losses.plot()\n",
    "#if validation loss increases then data is overfitting\n"
   ]
  },
  {
   "cell_type": "code",
   "execution_count": 8,
   "id": "23390c68",
   "metadata": {},
   "outputs": [],
   "source": [
    "predictions= model.predict_classes(x_test)"
   ]
  },
  {
   "cell_type": "code",
   "execution_count": 9,
   "id": "42667ba9",
   "metadata": {},
   "outputs": [
    {
     "name": "stdout",
     "output_type": "stream",
     "text": [
      "Mean Abs value: 0.11475409836065574\n",
      "Mean squared value: 0.11475409836065574\n",
      "root mean squared error value: 0.3387537429470791\n",
      "explained_variance_score: 0.5419354838709676\n"
     ]
    }
   ],
   "source": [
    "import math\n",
    "from sklearn import metrics\n",
    "\n",
    "#metrics to find accuracy of continous variables\n",
    "print('Mean Abs value:' ,metrics.mean_absolute_error(y_test,predictions))\n",
    "print('Mean squared value:',metrics.mean_squared_error(y_test,predictions))\n",
    "print('root mean squared error value:',math.sqrt(metrics.mean_squared_error(y_test,predictions)))\n",
    "print('explained_variance_score:',metrics.explained_variance_score(y_test,predictions)) #1 is good value\n"
   ]
  },
  {
   "cell_type": "code",
   "execution_count": 10,
   "id": "2f8d38a1",
   "metadata": {},
   "outputs": [
    {
     "name": "stdout",
     "output_type": "stream",
     "text": [
      "              precision    recall  f1-score   support\n",
      "\n",
      "           0       0.87      0.90      0.89        30\n",
      "           1       0.90      0.87      0.89        31\n",
      "\n",
      "    accuracy                           0.89        61\n",
      "   macro avg       0.89      0.89      0.89        61\n",
      "weighted avg       0.89      0.89      0.89        61\n",
      "\n",
      "\n",
      "\n",
      "[[27  3]\n",
      " [ 4 27]]\n"
     ]
    }
   ],
   "source": [
    "from sklearn.metrics import classification_report,confusion_matrix\n",
    "print(classification_report(y_test,predictions))\n",
    "print(\"\\n\")\n",
    "print(confusion_matrix(y_test,predictions))"
   ]
  },
  {
   "cell_type": "code",
   "execution_count": null,
   "id": "4827e6cb",
   "metadata": {},
   "outputs": [],
   "source": []
  },
  {
   "cell_type": "code",
   "execution_count": 11,
   "id": "cad8dbb8",
   "metadata": {},
   "outputs": [],
   "source": [
    "model.save('heart.h5')"
   ]
  },
  {
   "cell_type": "code",
   "execution_count": 12,
   "id": "3649f51b",
   "metadata": {},
   "outputs": [],
   "source": [
    "#import pickle\n",
    "#pickle.dump(model, open('heart.pkl', 'wb'))"
   ]
  },
  {
   "cell_type": "code",
   "execution_count": null,
   "id": "c2a55eb3",
   "metadata": {},
   "outputs": [],
   "source": []
  }
 ],
 "metadata": {
  "kernelspec": {
   "display_name": "Python 3",
   "language": "python",
   "name": "python3"
  },
  "language_info": {
   "codemirror_mode": {
    "name": "ipython",
    "version": 3
   },
   "file_extension": ".py",
   "mimetype": "text/x-python",
   "name": "python",
   "nbconvert_exporter": "python",
   "pygments_lexer": "ipython3",
   "version": "3.9.4"
  }
 },
 "nbformat": 4,
 "nbformat_minor": 5
}
